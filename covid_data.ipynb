from dateutil import parser
# to handle  data retrieval
import urllib3
from urllib3 import request
# to handle certificate verification
import certifi
# to manage json data
import json
# for pandas dataframes


def load_covid_data():
    http = urllib3.PoolManager(
            cert_reqs='CERT_REQUIRED',
            ca_certs=certifi.where())
    #want to look at the state of texas since our shelter data is based in dallas
    url = 'https://data.cdc.gov/resource/9mfq-cb36.json?state=TX'
    r = http.request('GET', url)
    #make sure that there is a 200 request --> api is working
    r.status
    #decode the dataset
    df = json.loads(r.data.decode('utf-8'))
    #normalize the dataset 
    df = pd.json_normalize(data)
    return df



#function to get our data in the types that we want it as
def update_corona_data():
    #load in covid data from load_covid_data function
    df = load_covid_data()
    #only want to look at total cases and submission date
    date_cases = df[['submission_date', 'tot_cases', 'tot_death']]

    #create a new function to get date and parse it for timestamp column
    def get_date(row):
        x = row.loc['submission_date']
        date = parser.parse(x)
        return date

    #create a new column to apply this function to
    date_cases['dt'] = date_cases.apply(get_date, axis = 1)
    #set the type of total cases to an integer to easily analyze
    date_cases['tot_cases'] = date_cases['tot_cases'].astype(int)
    date_cases['tot_death'] = date_cases['tot_death'].astype(int)

    date_cases=date_cases[['dt', 'tot_cases', 'tot_death']]
    #return dataframe with clean dataset
    return date_cases

#create a line plot of cases against the date
def plot_corona_cases():

    #get cleaned dataframe from previous function
    date_cases = update_corona_data()

    #sort values of date to see the trend overtime
    date_cases.sort_values('dt', ascending=True, inplace = True)
    
    #plot the graph
    plt.plot(date_cases['dt'], date_cases['tot_cases'])
    plt.xlabel('Date')
    plt.ylabel('Cases')
    plt.title('New Cases Over Time')
    plt.xticks(rotation='vertical')
    return plt

def plot_corona_deaths():
    #get dataframe
    date_cases = update_corona_data()
    
    date_cases.sort_values('dt', ascending=True, inplace=True)
    
    plt.plot(date_cases['dt'], date_cases['tot_cases'], label = 'new cases')
    plt.plot(date_cases['dt'], date_cases['tot_death'], label = 'deaths')
    plt.xlabel('Date')
    plt.ylabel('Cases')
    plt.title('New Cases versus Total Deaths')
    plt.xticks(rotation='vertical')
    return plt

update_corona_data()

